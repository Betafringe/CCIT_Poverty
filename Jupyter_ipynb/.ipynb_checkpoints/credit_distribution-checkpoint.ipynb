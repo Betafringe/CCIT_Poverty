{
 "cells": [
  {
   "cell_type": "code",
   "execution_count": 1,
   "metadata": {
    "collapsed": true
   },
   "outputs": [],
   "source": [
    "import numpy as np\n",
    "import pandas as pd\n",
    "import os\n",
    "import datetime\n",
    "import matplotlib.pyplot as plt"
   ]
  },
  {
   "cell_type": "code",
   "execution_count": 2,
   "metadata": {},
   "outputs": [
    {
     "data": {
      "text/html": [
       "<div>\n",
       "<style>\n",
       "    .dataframe thead tr:only-child th {\n",
       "        text-align: right;\n",
       "    }\n",
       "\n",
       "    .dataframe thead th {\n",
       "        text-align: left;\n",
       "    }\n",
       "\n",
       "    .dataframe tbody tr th {\n",
       "        vertical-align: top;\n",
       "    }\n",
       "</style>\n",
       "<table border=\"1\" class=\"dataframe\">\n",
       "  <thead>\n",
       "    <tr style=\"text-align: right;\">\n",
       "      <th></th>\n",
       "      <th>id</th>\n",
       "      <th>score</th>\n",
       "      <th>character</th>\n",
       "      <th>appointment</th>\n",
       "      <th>history</th>\n",
       "      <th>stickiness</th>\n",
       "      <th>relations</th>\n",
       "      <th>analyze</th>\n",
       "    </tr>\n",
       "  </thead>\n",
       "  <tbody>\n",
       "    <tr>\n",
       "      <th>count</th>\n",
       "      <td>1.000000e+03</td>\n",
       "      <td>1000.00000</td>\n",
       "      <td>1000.000000</td>\n",
       "      <td>1000.000000</td>\n",
       "      <td>1000.000000</td>\n",
       "      <td>1000.000000</td>\n",
       "      <td>1000.000000</td>\n",
       "      <td>0.0</td>\n",
       "    </tr>\n",
       "    <tr>\n",
       "      <th>mean</th>\n",
       "      <td>9.410935e+05</td>\n",
       "      <td>579.98700</td>\n",
       "      <td>0.615300</td>\n",
       "      <td>0.647130</td>\n",
       "      <td>0.595900</td>\n",
       "      <td>0.722640</td>\n",
       "      <td>0.653500</td>\n",
       "      <td>NaN</td>\n",
       "    </tr>\n",
       "    <tr>\n",
       "      <th>std</th>\n",
       "      <td>5.440691e+05</td>\n",
       "      <td>32.26639</td>\n",
       "      <td>0.107597</td>\n",
       "      <td>0.052936</td>\n",
       "      <td>0.075623</td>\n",
       "      <td>0.115533</td>\n",
       "      <td>0.063263</td>\n",
       "      <td>NaN</td>\n",
       "    </tr>\n",
       "    <tr>\n",
       "      <th>min</th>\n",
       "      <td>1.837200e+04</td>\n",
       "      <td>533.00000</td>\n",
       "      <td>0.460000</td>\n",
       "      <td>0.510000</td>\n",
       "      <td>0.400000</td>\n",
       "      <td>0.570000</td>\n",
       "      <td>0.560000</td>\n",
       "      <td>NaN</td>\n",
       "    </tr>\n",
       "    <tr>\n",
       "      <th>25%</th>\n",
       "      <td>5.460822e+05</td>\n",
       "      <td>553.75000</td>\n",
       "      <td>0.520000</td>\n",
       "      <td>0.650000</td>\n",
       "      <td>0.600000</td>\n",
       "      <td>0.570000</td>\n",
       "      <td>0.620000</td>\n",
       "      <td>NaN</td>\n",
       "    </tr>\n",
       "    <tr>\n",
       "      <th>50%</th>\n",
       "      <td>8.662085e+05</td>\n",
       "      <td>576.00000</td>\n",
       "      <td>0.600000</td>\n",
       "      <td>0.650000</td>\n",
       "      <td>0.600000</td>\n",
       "      <td>0.810000</td>\n",
       "      <td>0.620000</td>\n",
       "      <td>NaN</td>\n",
       "    </tr>\n",
       "    <tr>\n",
       "      <th>75%</th>\n",
       "      <td>1.552240e+06</td>\n",
       "      <td>600.00000</td>\n",
       "      <td>0.669600</td>\n",
       "      <td>0.650000</td>\n",
       "      <td>0.600000</td>\n",
       "      <td>0.810000</td>\n",
       "      <td>0.740000</td>\n",
       "      <td>NaN</td>\n",
       "    </tr>\n",
       "    <tr>\n",
       "      <th>max</th>\n",
       "      <td>1.868484e+06</td>\n",
       "      <td>692.00000</td>\n",
       "      <td>0.920000</td>\n",
       "      <td>0.720000</td>\n",
       "      <td>0.700000</td>\n",
       "      <td>0.810000</td>\n",
       "      <td>0.760000</td>\n",
       "      <td>NaN</td>\n",
       "    </tr>\n",
       "  </tbody>\n",
       "</table>\n",
       "</div>"
      ],
      "text/plain": [
       "                 id       score    character  appointment      history  \\\n",
       "count  1.000000e+03  1000.00000  1000.000000  1000.000000  1000.000000   \n",
       "mean   9.410935e+05   579.98700     0.615300     0.647130     0.595900   \n",
       "std    5.440691e+05    32.26639     0.107597     0.052936     0.075623   \n",
       "min    1.837200e+04   533.00000     0.460000     0.510000     0.400000   \n",
       "25%    5.460822e+05   553.75000     0.520000     0.650000     0.600000   \n",
       "50%    8.662085e+05   576.00000     0.600000     0.650000     0.600000   \n",
       "75%    1.552240e+06   600.00000     0.669600     0.650000     0.600000   \n",
       "max    1.868484e+06   692.00000     0.920000     0.720000     0.700000   \n",
       "\n",
       "        stickiness    relations  analyze  \n",
       "count  1000.000000  1000.000000      0.0  \n",
       "mean      0.722640     0.653500      NaN  \n",
       "std       0.115533     0.063263      NaN  \n",
       "min       0.570000     0.560000      NaN  \n",
       "25%       0.570000     0.620000      NaN  \n",
       "50%       0.810000     0.620000      NaN  \n",
       "75%       0.810000     0.740000      NaN  \n",
       "max       0.810000     0.760000      NaN  "
      ]
     },
     "execution_count": 2,
     "metadata": {},
     "output_type": "execute_result"
    }
   ],
   "source": [
    "df = pd.read_csv('credit_user_info_view.csv')\n",
    "df.describe()"
   ]
  },
  {
   "cell_type": "code",
   "execution_count": 9,
   "metadata": {},
   "outputs": [
    {
     "data": {
      "text/plain": [
       "array([[<matplotlib.axes._subplots.AxesSubplot object at 0x115477ba8>]], dtype=object)"
      ]
     },
     "execution_count": 9,
     "metadata": {},
     "output_type": "execute_result"
    }
   ],
   "source": [
    "df.hist('score', bins = 50)\n",
    "plt.show()"
   ]
  },
  {
   "cell_type": "code",
   "execution_count": 10,
   "metadata": {},
   "outputs": [
    {
     "data": {
      "image/png": "[encoded data removed]",
      "text/plain": [
       "<matplotlib.figure.Figure at 0x1154dad30>"
      ]
     },
     "metadata": {},
     "output_type": "display_data"
    }
   ],
   "source": []
  },
  {
   "cell_type": "code",
   "execution_count": 16,
   "metadata": {},
   "outputs": [
    {
     "data": {
      "image/png": "[encoded data removed]",
      "text/plain": [
       "<matplotlib.figure.Figure at 0x1162105c0>"
      ]
     },
     "metadata": {},
     "output_type": "display_data"
    }
   ],
   "source": []
  },
  {
   "cell_type": "code",
   "execution_count": null,
   "metadata": {
    "collapsed": true
   },
   "outputs": [],
   "source": []
  }
 ],
 "metadata": {
  "kernelspec": {
   "display_name": "Python 3",
   "language": "python",
   "name": "python3"
  },
  "language_info": {
   "codemirror_mode": {
    "name": "ipython",
    "version": 3
   },
   "file_extension": ".py",
   "mimetype": "text/x-python",
   "name": "python",
   "nbconvert_exporter": "python",
   "pygments_lexer": "ipython3",
   "version": "3.6.4"
  }
 },
 "nbformat": 4,
 "nbformat_minor": 2
}
