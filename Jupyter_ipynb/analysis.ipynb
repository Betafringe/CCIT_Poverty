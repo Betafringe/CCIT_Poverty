{
 "cells": [
  {
   "cell_type": "code",
   "execution_count": 2,
   "metadata": {
    "collapsed": true
   },
   "outputs": [],
   "source": [
    "import pandas as pd\n",
    "import numpy as np\n"
   ]
  },
  {
   "cell_type": "code",
   "execution_count": 3,
   "metadata": {},
   "outputs": [
    {
     "name": "stdout",
     "output_type": "stream",
     "text": [
      "<class 'pandas.core.frame.DataFrame'>\n",
      "RangeIndex: 3000 entries, 0 to 2999\n",
      "Data columns (total 39 columns):\n",
      "id                  3000 non-null int64\n",
      "householder_name    3000 non-null object\n",
      "per_num             3000 non-null int64\n",
      "year                3000 non-null object\n",
      "ID_card             3000 non-null object\n",
      "level               3000 non-null object\n",
      "breed_year          0 non-null float64\n",
      "equip_breed         0 non-null float64\n",
      "land_year           0 non-null float64\n",
      "land_size           0 non-null float64\n",
      "channel             0 non-null float64\n",
      "channel_num         0 non-null float64\n",
      "sale_income         0 non-null float64\n",
      "address             3000 non-null object\n",
      "city_id             3000 non-null int64\n",
      "city                3000 non-null object\n",
      "county_id           3000 non-null int64\n",
      "county              3000 non-null object\n",
      "town_id             3000 non-null int64\n",
      "town                3000 non-null object\n",
      "village_id          3000 non-null int64\n",
      "village_name        3000 non-null object\n",
      "phone_num           0 non-null float64\n",
      "helper              432 non-null object\n",
      "helper_unit         439 non-null object\n",
      "helper_number       427 non-null float64\n",
      "plan_time           873 non-null object\n",
      "help_industry       567 non-null object\n",
      "industrial_scale    296 non-null object\n",
      "tech_project        174 non-null object\n",
      "income              3000 non-null int64\n",
      "real_time           1 non-null object\n",
      "out_poverty         3000 non-null object\n",
      "input_user          17 non-null float64\n",
      "input_time          17 non-null object\n",
      "check_status        3000 non-null int64\n",
      "status              3000 non-null int64\n",
      "city_recorder       0 non-null float64\n",
      "county_recorder     0 non-null float64\n",
      "dtypes: float64(12), int64(9), object(18)\n",
      "memory usage: 914.1+ KB\n"
     ]
    }
   ],
   "source": [
    "path = '/Users/betafringe/Devproject/python/ProjectPoverty/__CreditAnalyse/data/csv/user_info.csv'\n",
    "df_user = pd.read_csv(path)\n",
    "df_user.info()"
   ]
  },
  {
   "cell_type": "code",
   "execution_count": 7,
   "metadata": {},
   "outputs": [
    {
     "data": {
      "text/plain": [
       "4.0"
      ]
     },
     "execution_count": 7,
     "metadata": {},
     "output_type": "execute_result"
    }
   ],
   "source": [
    "df_user[\"per_num\"].median()"
   ]
  },
  {
   "cell_type": "code",
   "execution_count": 10,
   "metadata": {},
   "outputs": [
    {
     "ename": "KeyError",
     "evalue": "'Level 2013 must be same as name (None)'",
     "output_type": "error",
     "traceback": [
      "\u001b[0;31m---------------------------------------------------------------------------\u001b[0m",
      "\u001b[0;31mKeyError\u001b[0m                                  Traceback (most recent call last)",
      "\u001b[0;32m<ipython-input-10-8f693c45a8fd>\u001b[0m in \u001b[0;36m<module>\u001b[0;34m()\u001b[0m\n\u001b[0;32m----> 1\u001b[0;31m \u001b[0mdf_user\u001b[0m\u001b[0;34m[\u001b[0m\u001b[0;34m\"year\"\u001b[0m\u001b[0;34m]\u001b[0m\u001b[0;34m.\u001b[0m\u001b[0mcount\u001b[0m\u001b[0;34m(\u001b[0m\u001b[0;34m'2013'\u001b[0m\u001b[0;34m)\u001b[0m\u001b[0;34m\u001b[0m\u001b[0m\n\u001b[0m",
      "\u001b[0;32m/usr/local/lib/python3.6/site-packages/pandas/core/series.py\u001b[0m in \u001b[0;36mcount\u001b[0;34m(self, level)\u001b[0m\n\u001b[1;32m   1163\u001b[0m \u001b[0;34m\u001b[0m\u001b[0m\n\u001b[1;32m   1164\u001b[0m         \u001b[0;32mif\u001b[0m \u001b[0misinstance\u001b[0m\u001b[0;34m(\u001b[0m\u001b[0mlevel\u001b[0m\u001b[0;34m,\u001b[0m \u001b[0mcompat\u001b[0m\u001b[0;34m.\u001b[0m\u001b[0mstring_types\u001b[0m\u001b[0;34m)\u001b[0m\u001b[0;34m:\u001b[0m\u001b[0;34m\u001b[0m\u001b[0m\n\u001b[0;32m-> 1165\u001b[0;31m             \u001b[0mlevel\u001b[0m \u001b[0;34m=\u001b[0m \u001b[0mself\u001b[0m\u001b[0;34m.\u001b[0m\u001b[0mindex\u001b[0m\u001b[0;34m.\u001b[0m\u001b[0m_get_level_number\u001b[0m\u001b[0;34m(\u001b[0m\u001b[0mlevel\u001b[0m\u001b[0;34m)\u001b[0m\u001b[0;34m\u001b[0m\u001b[0m\n\u001b[0m\u001b[1;32m   1166\u001b[0m \u001b[0;34m\u001b[0m\u001b[0m\n\u001b[1;32m   1167\u001b[0m         \u001b[0mlev\u001b[0m \u001b[0;34m=\u001b[0m \u001b[0mself\u001b[0m\u001b[0;34m.\u001b[0m\u001b[0mindex\u001b[0m\u001b[0;34m.\u001b[0m\u001b[0mlevels\u001b[0m\u001b[0;34m[\u001b[0m\u001b[0mlevel\u001b[0m\u001b[0;34m]\u001b[0m\u001b[0;34m\u001b[0m\u001b[0m\n",
      "\u001b[0;32m/usr/local/lib/python3.6/site-packages/pandas/core/indexes/base.py\u001b[0m in \u001b[0;36m_get_level_number\u001b[0;34m(self, level)\u001b[0m\n\u001b[1;32m   1561\u001b[0m \u001b[0;34m\u001b[0m\u001b[0m\n\u001b[1;32m   1562\u001b[0m     \u001b[0;32mdef\u001b[0m \u001b[0m_get_level_number\u001b[0m\u001b[0;34m(\u001b[0m\u001b[0mself\u001b[0m\u001b[0;34m,\u001b[0m \u001b[0mlevel\u001b[0m\u001b[0;34m)\u001b[0m\u001b[0;34m:\u001b[0m\u001b[0;34m\u001b[0m\u001b[0m\n\u001b[0;32m-> 1563\u001b[0;31m         \u001b[0mself\u001b[0m\u001b[0;34m.\u001b[0m\u001b[0m_validate_index_level\u001b[0m\u001b[0;34m(\u001b[0m\u001b[0mlevel\u001b[0m\u001b[0;34m)\u001b[0m\u001b[0;34m\u001b[0m\u001b[0m\n\u001b[0m\u001b[1;32m   1564\u001b[0m         \u001b[0;32mreturn\u001b[0m \u001b[0;36m0\u001b[0m\u001b[0;34m\u001b[0m\u001b[0m\n\u001b[1;32m   1565\u001b[0m \u001b[0;34m\u001b[0m\u001b[0m\n",
      "\u001b[0;32m/usr/local/lib/python3.6/site-packages/pandas/core/indexes/base.py\u001b[0m in \u001b[0;36m_validate_index_level\u001b[0;34m(self, level)\u001b[0m\n\u001b[1;32m   1558\u001b[0m         \u001b[0;32melif\u001b[0m \u001b[0mlevel\u001b[0m \u001b[0;34m!=\u001b[0m \u001b[0mself\u001b[0m\u001b[0;34m.\u001b[0m\u001b[0mname\u001b[0m\u001b[0;34m:\u001b[0m\u001b[0;34m\u001b[0m\u001b[0m\n\u001b[1;32m   1559\u001b[0m             raise KeyError('Level %s must be same as name (%s)' %\n\u001b[0;32m-> 1560\u001b[0;31m                            (level, self.name))\n\u001b[0m\u001b[1;32m   1561\u001b[0m \u001b[0;34m\u001b[0m\u001b[0m\n\u001b[1;32m   1562\u001b[0m     \u001b[0;32mdef\u001b[0m \u001b[0m_get_level_number\u001b[0m\u001b[0;34m(\u001b[0m\u001b[0mself\u001b[0m\u001b[0;34m,\u001b[0m \u001b[0mlevel\u001b[0m\u001b[0;34m)\u001b[0m\u001b[0;34m:\u001b[0m\u001b[0;34m\u001b[0m\u001b[0m\n",
      "\u001b[0;31mKeyError\u001b[0m: 'Level 2013 must be same as name (None)'"
     ]
    }
   ],
   "source": [
    "df_user[\"year\"].count('2013')"
   ]
  },
  {
   "cell_type": "code",
   "execution_count": 6,
   "metadata": {},
   "outputs": [
    {
     "name": "stdout",
     "output_type": "stream",
     "text": [
      "<class 'pandas.core.frame.DataFrame'>\n",
      "RangeIndex: 3000 entries, 0 to 2999\n",
      "Data columns (total 75 columns):\n",
      "id                    3000 non-null int64\n",
      "user_id               3000 non-null int64\n",
      "poor_id               2995 non-null float64\n",
      "role_type             3000 non-null int64\n",
      "city_id               3000 non-null float64\n",
      "city_name             2990 non-null object\n",
      "county_id             3000 non-null float64\n",
      "county_name           2990 non-null object\n",
      "town_id               2982 non-null float64\n",
      "town_name             2864 non-null object\n",
      "village_id            3000 non-null float64\n",
      "village_name          2832 non-null object\n",
      "expert_id             2904 non-null float64\n",
      "title                 3000 non-null object\n",
      "content               2967 non-null object\n",
      "create_time           3000 non-null object\n",
      "end_time              2991 non-null object\n",
      "finish_time           2757 non-null object\n",
      "finish_year           2757 non-null float64\n",
      "finish_month          2757 non-null float64\n",
      "is_deleted            3000 non-null int64\n",
      "distribute_id         10 non-null float64\n",
      "distribute_time       10 non-null object\n",
      "dis_city_id           215 non-null float64\n",
      "city_do               215 non-null float64\n",
      "dis_city_time         215 non-null object\n",
      "dis_county_id         1388 non-null float64\n",
      "county_do             1388 non-null float64\n",
      "dis_county_time       1388 non-null object\n",
      "consult_type          3000 non-null int64\n",
      "evaluate_of_expert    0 non-null float64\n",
      "evaluate_of_user      0 non-null float64\n",
      "path                  3000 non-null object\n",
      "status                3000 non-null int64\n",
      "score_of_expert       0 non-null float64\n",
      "score_user_show       2756 non-null float64\n",
      "score_ex_time         2757 non-null object\n",
      "score_of_user         0 non-null float64\n",
      "score_ex_show         2757 non-null float64\n",
      "score_user_time       2757 non-null object\n",
      "industry_id           186 non-null float64\n",
      "industry_field        2993 non-null object\n",
      "industry_size         2347 non-null object\n",
      "answer_status         3000 non-null int64\n",
      "is_read_exp           3000 non-null int64\n",
      "is_read               3000 non-null int64\n",
      "random_num            1404 non-null object\n",
      "is_local              3000 non-null int64\n",
      "is_solve              2757 non-null float64\n",
      "solve_num             3000 non-null int64\n",
      "is_supervise          3000 non-null int64\n",
      "satisfaction          3000 non-null int64\n",
      "satis_user            2546 non-null float64\n",
      "satis_time            2547 non-null object\n",
      "satis_expert          3000 non-null int64\n",
      "satexp_user           2113 non-null float64\n",
      "satexp_time           2113 non-null object\n",
      "satisfaction_end      3000 non-null int64\n",
      "endsatis_expert       3000 non-null int64\n",
      "end_satis             3000 non-null int64\n",
      "endsatis_time         0 non-null float64\n",
      "endsatisexp_time      0 non-null float64\n",
      "ticket_ex_status      3000 non-null int64\n",
      "ticket_user_status    3000 non-null int64\n",
      "total_ticket          0 non-null float64\n",
      "expert_status         3000 non-null int64\n",
      "last_editor           0 non-null float64\n",
      "edit_time             0 non-null float64\n",
      "sorting               3000 non-null int64\n",
      "satis_city            3000 non-null int64\n",
      "city_time             0 non-null float64\n",
      "city_reason           0 non-null float64\n",
      "satis_pro             3000 non-null int64\n",
      "pro_time              0 non-null float64\n",
      "pro_reason            0 non-null float64\n",
      "dtypes: float64(32), int64(23), object(20)\n",
      "memory usage: 1.7+ MB\n"
     ]
    }
   ],
   "source": [
    "path2 = '/Users/betafringe/Devproject/python/ProjectPoverty/__CreditAnalyse/data/csv/ask_info.csv'\n",
    "df_ask = pd.read_csv(path2)\n",
    "df_ask.info()\n"
   ]
  },
  {
   "cell_type": "code",
   "execution_count": null,
   "metadata": {
    "collapsed": true
   },
   "outputs": [],
   "source": [
    "path1 = '/Users/betafringe/Devproject/python/ProjectPoverty/__CreditAnalyse/data/csv/ask_info.csv'\n"
   ]
  }
 ],
 "metadata": {
  "kernelspec": {
   "display_name": "Python 3",
   "language": "python",
   "name": "python3"
  },
  "language_info": {
   "codemirror_mode": {
    "name": "ipython",
    "version": 3
   },
   "file_extension": ".py",
   "mimetype": "text/x-python",
   "name": "python",
   "nbconvert_exporter": "python",
   "pygments_lexer": "ipython3",
   "version": "3.6.4"
  }
 },
 "nbformat": 4,
 "nbformat_minor": 2
}
